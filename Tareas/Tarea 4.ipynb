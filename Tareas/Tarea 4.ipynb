{
 "cells": [
  {
   "cell_type": "markdown",
   "id": "e21e9074",
   "metadata": {},
   "source": [
    "# Tarea 4\n",
    "\n",
    "### Diferenciacion de esmeraldas colombianas usando aprendizaje no supervizado"
   ]
  },
  {
   "cell_type": "markdown",
   "id": "2585aab7",
   "metadata": {},
   "source": [
    "**Reporte 1**\n",
    "\n",
    "La propuesta para el proyecto es usar aprendizaje no supervizado como clustering y tecnicas de reduccion de dimension como PCA e ICA para hallar subgrupos que ayuden a diferenciar las esmeraldas dependiendo de su proveniencia (si son del cinturon esmeraldifero oriental o del occidental) al analizar los resultados del analisis LA-ICP-MS de esmeraldas de los dos cinturones.\n"
   ]
  },
  {
   "cell_type": "markdown",
   "id": "a3900929",
   "metadata": {},
   "source": [
    "**Asesor principal** : Profesor Daniel Montenegro\n",
    "\n",
    "**Autor** : Valentina Gonzalez"
   ]
  },
  {
   "cell_type": "markdown",
   "id": "f735fb31",
   "metadata": {},
   "source": [
    "##### Introducción\n",
    "\n",
    "Las esmeraldas se encuentran entre las piedras preciosas mas apetecidas y valiosas en el mercado de las joyas, pero su valor comercial depende de varios factores como el color y la claridad [[1]](https://www.gia.edu/emerald-quality-factor), estas caracteristicas estan relacionadas a su origen geografico, ya que el color en las esmeraldas es dado por la cantidad de elementos cromoforos en su estructura (Cr, V y Fe).\n",
    "\n",
    "Teniendo en cuenta que comercialmente es muy importante la determinacion del origen geografico de los laboratorios gemologicos utilizan diferentes tecnicas espectroscopicas y analiticas para encontrar patrones y definir el origen de las esmeraldas, entre las tecnicas utilizadas se encuentra LA-ICP-MS (laser ablation inductively coupled plasma mass spectrometry) en donde secciones de esmeraldas pulidas se ven sometidas a una ablacion laser de la que se obtiene la concentracion de isotopos de elementos que tiene.\n",
    "\n",
    "En general la composicion quimica de las esmeraldas no cambia, ya que siempre va a tener la formula general Be<sub>3</sub>Al<sub>2</sub>Si<sub>6</sub>O<sub>18</sub>, por lo que la concentracion de Be, Al, Si y O no cambiara mucho entre esmeraldas ya que se trata del mismo mineral, sin embargo, los elementos que se encuentran en menores cantidades o elementos traza son diferenciables dependiendo su origen.\n",
    "\n",
    "Durante decadas se ha estudiado como los ambientes geologicos en donde se forman las esmeraldas influencian la cantidad de elementos traza que se pueden encontrar en ellas [[2]](https://www.sciencedirect.com/science/article/abs/pii/S0169136808000218), por ejemplo la cantidad de Li, K y Fe puede ayudar en la diferenciacion de esmeraldas colombianas y no colombianas [[3]](https://www.gia.edu/gems-gemology/winter-2019-analytical-methods-geographic-origin-determination-gemstones) [[4]](https://www.gia.edu/gems-gemology/winter-2019-emerald-geographic-origin-determination) [[5]](https://www.mdpi.com/2075-163X/9/9/561/htm) y aunque esta clase de estudios es muy util usualmente se enfoca en determinar la nacionalidad de las esmeralda, pero en el caso colombiano tambien es necesario determinar el cinturon esmeraldifero al cual pertenece la esmeralda.\n",
    "\n",
    "\n",
    "Como se puede ver en la siguiente imagen las esmeraldas colombianas estan divididas en 2 cinturones esmeraldiferos, el cinturon esmeraldifero oriental donde se encuentran los depositos de Gachalá, Chivor y Macanal y el cinturon occidental donde se encuentran los depositos de Peñas Blancas, La Pita, Muzo, Coscuez y Yacopi. \n",
    "\n",
    "\n"
   ]
  },
  {
   "cell_type": "markdown",
   "id": "f0cc7781",
   "metadata": {},
   "source": [
    "<figure>\n",
    "<img src=\"https://geologiaweb.com/wp-content/uploads/2021/11/mapa-esmeraldas-colombia.jpg\" align=\"center\"/> \n",
    "</figure>"
   ]
  },
  {
   "cell_type": "markdown",
   "id": "0e4a9da9",
   "metadata": {},
   "source": [
    "#### Descripción del problema\n",
    "\n",
    "Como se menciono anteriormente los laboratorios gemologicos necesitan determinar el origen geografico de las esmeraldas, pero en el caso del laboratorio donde trabajo ademas es importante investigar si hay isotopos que ayuden a diferenciar no solo entre las esmeraldas del cinturon oriental y el occidental sino ademas si se puede distinguir entre depositos del mismo cinturon.\n",
    "\n",
    "Se han recogido durante los ultimos años alrededor de 200 muestras de esmeraldas de distintos depositos y se mandaron a analizar por LA-ICP-MS y los resultados son los datos que se van a usar en el analisis."
   ]
  },
  {
   "cell_type": "markdown",
   "id": "03e50b69",
   "metadata": {},
   "source": [
    "#### Fuentes de datos\n",
    "\n",
    "Los datos son resultado de analisis de espectroscopia de masas o LA-ICP-MS donde se encuentran las concentraciones de isotopos de elementos de cada esmeralda, es un cuadro de excel donde en las columnas se encuentran el nombre de las muestras, por cada muestra hay 3 datos debido a que el metodo de analisis se hace en secciones pequeñas y como las esmeraldas no son uniformes en una misma esmeralda pueden haber zonas con alta y baja concentracion de cromoforos (como se muestra en la siguiente figura). \n"
   ]
  },
  {
   "cell_type": "markdown",
   "id": "325fefcd",
   "metadata": {},
   "source": [
    "<figure>\n",
    "<img src=\"https://images.squarespace-cdn.com/content/v1/531546a7e4b004de19791ef4/1430150337691-2NGPWDS1Z0MC29MKLXP7/image-asset.jpeg\" align=\"center\"/> \n",
    "</figure>\n"
   ]
  },
  {
   "cell_type": "markdown",
   "id": "4e9964e4",
   "metadata": {},
   "source": [
    "Por razones de confidencialidad no puedo subir los datos a github pero aqui esta una imagen de como se ven los datos"
   ]
  },
  {
   "cell_type": "markdown",
   "id": "45b09aa5",
   "metadata": {},
   "source": [
    "<figure>\n",
    "<img src=\"../Imagenes/Imagen2.jpeg\"  align=\"center\"/> \n",
    "</figure>"
   ]
  },
  {
   "cell_type": "markdown",
   "id": "95546308",
   "metadata": {},
   "source": [
    "#### Procesamiento ETL\n",
    "\n",
    "Los datos se encuentran en un archivo excel, como se acordo con el profe voy a depurar los datos empezando con quitar los elementos que no cambian mucho como el Be, Al, Si y O y ademas hay varios datos donde el analisis se hizo en inclusiones de minerales por lo cual van a tener cantidades de Na u otro elemento mucho mas grandes que los demas datos.\n",
    "\n",
    "Luego de seleccionar los datos voy a sacar el promedio de los datos que corresponden a las mismas muestras, y solo tener un dato por muestra.\n"
   ]
  },
  {
   "cell_type": "markdown",
   "id": "eda3e543",
   "metadata": {},
   "source": [
    "#### Exploracion de datos y tecnicas de modelacion\n",
    "\n",
    "Se va a usar clustering y luego tecnicas de reduccion de dimension como ICA o PCA para ver si se pueden encontrar subgrupos que correspondan a esmeraldas de depositos en especifico.\n",
    "\n",
    "La idea tambien es mirar la estructura de los datos y ver si se puede hacer un modelo predectivo."
   ]
  },
  {
   "cell_type": "markdown",
   "id": "fd45a1bb",
   "metadata": {},
   "source": [
    "#### Conocimientos requeridos\n",
    "\n",
    "Para este proyecto necesito modelos no supervisados para el clustering y modelos predictivos, tecnicas de reduccion de dimensionalidad y ademas de un nivel de python suficiente para leer los datos y manejarlos, para sacar los promedios y eliminar columnas de isotopos.\n",
    "\n"
   ]
  },
  {
   "cell_type": "markdown",
   "id": "d065ed4b",
   "metadata": {},
   "source": [
    "#### Resultados esperados\n",
    "\n",
    "La idea es obtener los resultados de clustering en unas 2 semanas y e irlo mejorando.\n",
    "En total espero que el proceso se demore unas 4 semanas."
   ]
  },
  {
   "cell_type": "code",
   "execution_count": null,
   "id": "1bf07aac",
   "metadata": {},
   "outputs": [],
   "source": []
  }
 ],
 "metadata": {
  "kernelspec": {
   "display_name": "Python 3 (ipykernel)",
   "language": "python",
   "name": "python3"
  },
  "language_info": {
   "codemirror_mode": {
    "name": "ipython",
    "version": 3
   },
   "file_extension": ".py",
   "mimetype": "text/x-python",
   "name": "python",
   "nbconvert_exporter": "python",
   "pygments_lexer": "ipython3",
   "version": "3.9.12"
  }
 },
 "nbformat": 4,
 "nbformat_minor": 5
}
