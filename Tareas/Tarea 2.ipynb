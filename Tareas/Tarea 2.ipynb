{
 "cells": [
  {
   "cell_type": "markdown",
   "id": "38162c4f",
   "metadata": {},
   "source": [
    "# Tarea 2"
   ]
  },
  {
   "cell_type": "markdown",
   "id": "c78d4c47",
   "metadata": {},
   "source": [
    "## Ejercicio 1\n",
    " Escriba una función  que reciba la fecha de nacimiento de un a persona y calcule la edad de la persona"
   ]
  },
  {
   "cell_type": "code",
   "execution_count": 140,
   "id": "257164d1",
   "metadata": {},
   "outputs": [],
   "source": [
    "from datetime import datetime\n",
    "\n",
    "def edadcal(d,m,a):\n",
    "    b = datetime.now()\n",
    "    b = b.strftime('%Y%m%d')\n",
    "    AA= int(b[0:4])\n",
    "    MM = int(b[4:6])\n",
    "    DD = int(b[6:8])\n",
    "    if (((MM == m) & (DD < d))|(MM < m) ):\n",
    "        edad = AA-a-1\n",
    "    else:\n",
    "        edad = AA-a\n",
    "    return edad\n"
   ]
  },
  {
   "cell_type": "code",
   "execution_count": 145,
   "id": "86105ab4",
   "metadata": {
    "scrolled": true
   },
   "outputs": [
    {
     "data": {
      "text/plain": [
       "25"
      ]
     },
     "execution_count": 145,
     "metadata": {},
     "output_type": "execute_result"
    }
   ],
   "source": [
    "edadcal(27,10,1996)"
   ]
  },
  {
   "cell_type": "markdown",
   "id": "fdbd6cfa",
   "metadata": {
    "scrolled": true
   },
   "source": [
    "## Ejercicio 2\n",
    "Crea una función EscribirCentrado, que reciba como parámetro un texto y lo escriba centrado en pantalla (suponiendo una anchura de 80 columnas; pista: deberás escribir 40 - longitud/2 espacios antes del texto).  \n"
   ]
  },
  {
   "cell_type": "code",
   "execution_count": 106,
   "id": "eff07b55",
   "metadata": {},
   "outputs": [],
   "source": [
    "def EscribirCentrado(texto):\n",
    "    n=int(40-len(texto)/2)  \n",
    "    print(' '*n, texto )\n",
    "    "
   ]
  },
  {
   "cell_type": "code",
   "execution_count": 108,
   "id": "ac4c46c1",
   "metadata": {},
   "outputs": [
    {
     "name": "stdout",
     "output_type": "stream",
     "text": [
      "                                     Centrado\n"
     ]
    }
   ],
   "source": [
    "EscribirCentrado(\"Centrado\")"
   ]
  },
  {
   "cell_type": "markdown",
   "id": "348219d4",
   "metadata": {},
   "source": [
    "## Ejercicio 3\n",
    "Construya una función decorada que reciba un texto y lo escriba marcado con Markdown en itálica y resaltada (bold). Revise la lección de decoradores, no vista en clase.\n",
    "\n"
   ]
  },
  {
   "cell_type": "code",
   "execution_count": 109,
   "id": "4857b41e",
   "metadata": {},
   "outputs": [],
   "source": [
    "def pretty_print(method):\n",
    "    def method_wrapper(self):\n",
    "        return \"<b><i>{0}</i></b>\".format(method(self))\n",
    "    return method_wrapper\n",
    "\n",
    "\n",
    "class Texto:\n",
    "    def __init__(self, text):\n",
    "        self.text = text\n",
    "        \n",
    "    @pretty_print    \n",
    "    def mejoratexto(self):\n",
    "        return self.text"
   ]
  },
  {
   "cell_type": "code",
   "execution_count": 110,
   "id": "654fdf4e",
   "metadata": {},
   "outputs": [
    {
     "name": "stdout",
     "output_type": "stream",
     "text": [
      "<b><i>Muchas palabras</i></b>\n"
     ]
    }
   ],
   "source": [
    "t = Texto('Muchas palabras')\n",
    "print(t.mejoratexto())\n"
   ]
  },
  {
   "cell_type": "markdown",
   "id": "5f13d25c",
   "metadata": {},
   "source": [
    "## Ejercicio 4\n",
    "Crea un programa que pida dos número enteros al usuario y diga si alguno de ellos es múltiplo del otro. "
   ]
  },
  {
   "cell_type": "code",
   "execution_count": 111,
   "id": "4e765159",
   "metadata": {},
   "outputs": [],
   "source": [
    "def multiplos(x,y):\n",
    "    k = y/x\n",
    "    l = x/y \n",
    "    if (k.is_integer()== True ):\n",
    "        print(y ,\"es multiplo de\", x)\n",
    "    elif (l.is_integer()== True):\n",
    "        print(x ,\"es multiplo de\", y)\n",
    "    else:\n",
    "        print(\"no son multiplos\")\n",
    "  "
   ]
  },
  {
   "cell_type": "code",
   "execution_count": 112,
   "id": "22d1a0b6",
   "metadata": {},
   "outputs": [
    {
     "name": "stdout",
     "output_type": "stream",
     "text": [
      "12 es multiplo de 6\n"
     ]
    }
   ],
   "source": [
    "multiplos(12,6)"
   ]
  },
  {
   "cell_type": "markdown",
   "id": "76b985d6",
   "metadata": {},
   "source": [
    "## Ejercicio 5\n",
    "Crear una función re reciba una lista  de 24 valores de temperatura leída  hora en un día y que calcule la temperatura media  Cree una lista con 24 valores de temperatura de un día de Bogotá y pruebe su función. Invente los datos.\n"
   ]
  },
  {
   "cell_type": "code",
   "execution_count": 2,
   "id": "2ea77725",
   "metadata": {},
   "outputs": [],
   "source": [
    "\n",
    "def temp_media(t):\n",
    "    M = sum(t)/len(t)\n",
    "    return (\"La temperatura media es \", M)"
   ]
  },
  {
   "cell_type": "code",
   "execution_count": 3,
   "id": "c6624b31",
   "metadata": {},
   "outputs": [
    {
     "data": {
      "text/plain": [
       "('La temperatura media es ', 16.958333333333332)"
      ]
     },
     "execution_count": 3,
     "metadata": {},
     "output_type": "execute_result"
    }
   ],
   "source": [
    "Temp= [21,14,15,25,20,11,12,13,21,22,24,23,15,16,17,20,21,22,19,18,11,10,5,12]\n",
    "temp_media(Temp)"
   ]
  },
  {
   "cell_type": "markdown",
   "id": "7f8d3ba3",
   "metadata": {},
   "source": [
    "## Ejercicio 6\n",
    "Crea un función “ConvertirEspaciado”, que reciba como parámetro un texto y devuelve una cadena con un espacio adicional tras cada letra. Por ejemplo, “Hola, tú” devolverá “H o l a , t ú “.  Pruebe \n"
   ]
  },
  {
   "cell_type": "code",
   "execution_count": 202,
   "id": "bd4caa5a",
   "metadata": {},
   "outputs": [],
   "source": [
    "\n",
    "def ConvertirEspaciado(a):\n",
    "    for char in a:\n",
    "        print(char, end=' ')\n",
    "    \n"
   ]
  },
  {
   "cell_type": "code",
   "execution_count": 207,
   "id": "3339f2d9",
   "metadata": {},
   "outputs": [
    {
     "name": "stdout",
     "output_type": "stream",
     "text": [
      "H o l a ,   t ú "
     ]
    }
   ],
   "source": [
    "ConvertirEspaciado(\"Hola, tú\")"
   ]
  },
  {
   "cell_type": "markdown",
   "id": "78bbe131",
   "metadata": {},
   "source": [
    "## Ejercicio 7\n",
    "Crea una función “calcularMaxMin” que recibe una arreglo con valores numérico y devuelve el valor máximo y el mínimo."
   ]
  },
  {
   "cell_type": "code",
   "execution_count": 210,
   "id": "2a31f079",
   "metadata": {},
   "outputs": [
    {
     "name": "stdout",
     "output_type": "stream",
     "text": [
      "El valor maximo es  96  y el valor minimo es 11\n"
     ]
    }
   ],
   "source": [
    "arreglo = [54,78,96,11,20]     \n",
    "\n",
    "max = arreglo[0]  \n",
    "min = arreglo[0]     \n",
    " \n",
    "for i in range(0, len(arreglo)):     \n",
    "   if(arreglo[i] < min):    \n",
    "       min = arreglo[i] \n",
    "    \n",
    "for i in range(0, len(arreglo)):     \n",
    "   if(arreglo[i] > max):    \n",
    "       max = arreglo[i] \n",
    "        \n",
    "           \n",
    "print(\"El valor maximo es \" , max, \" y el valor minimo es\", min) "
   ]
  },
  {
   "cell_type": "markdown",
   "id": "fbf86fba",
   "metadata": {},
   "source": [
    "## Ejercicio 7\n",
    "Diseñar una función que calcule el área y el perímetro de una circunferencia. "
   ]
  },
  {
   "cell_type": "code",
   "execution_count": 2,
   "id": "163b5147",
   "metadata": {},
   "outputs": [],
   "source": [
    "import math\n",
    "def Areayperimetro(radio):\n",
    "    Area = (radio**2) * math.pi\n",
    "    perimetro = 2* radio* math.pi\n",
    "    print (\"El area de la circunferencia es \" , Area, \" y el perimetro es\", perimetro)"
   ]
  },
  {
   "cell_type": "code",
   "execution_count": 6,
   "id": "4607b6ca",
   "metadata": {},
   "outputs": [
    {
     "name": "stdout",
     "output_type": "stream",
     "text": [
      "El area de la circunferencia es  78.53981633974483  y el perimetro es 31.41592653589793\n"
     ]
    }
   ],
   "source": [
    "Areayperimetro(5)"
   ]
  },
  {
   "cell_type": "markdown",
   "id": "e5c76745",
   "metadata": {},
   "source": [
    "## Ejercicio 8\n",
    "Crear una función  llamada “Login”, que recibe un nombre de usuario y una contraseña y devuelva Verdadero si el nombre de usuario es “usuario1” y la contraseña es “asdasd”. Además recibe el número de intentos que se ha intentado hacer login y si no se ha podido hacer login incremente este valor."
   ]
  },
  {
   "cell_type": "code",
   "execution_count": 113,
   "id": "a061dc4e",
   "metadata": {},
   "outputs": [],
   "source": [
    "def Login (usuario, contraseña, i=[0]):\n",
    "    if (usuario == \"usuario1\" and  contraseña == \"asdasd\"): \n",
    "        print(\"Verdadero\")        \n",
    "    else :\n",
    "        i[0]+=1\n",
    "        print(\"Numero de intentos fallidos\", i)"
   ]
  },
  {
   "cell_type": "code",
   "execution_count": 114,
   "id": "70ba6fd0",
   "metadata": {},
   "outputs": [
    {
     "name": "stdout",
     "output_type": "stream",
     "text": [
      "Numero de intentos fallidos [1]\n"
     ]
    }
   ],
   "source": [
    "Login('usuario2' , 'asdasd')\n",
    "\n"
   ]
  },
  {
   "cell_type": "markdown",
   "id": "d16aeadb",
   "metadata": {},
   "source": [
    "## Ejercicio 9\n",
    "Crear una función recursiva que permita calcular el factorial de un número. Realiza un programa principal donde se lea un entero y se muestre el resultado del factorial. Revise la lección de funciones."
   ]
  },
  {
   "cell_type": "code",
   "execution_count": 38,
   "id": "d427ae9e",
   "metadata": {},
   "outputs": [
    {
     "data": {
      "text/plain": [
       "120"
      ]
     },
     "execution_count": 38,
     "metadata": {},
     "output_type": "execute_result"
    }
   ],
   "source": [
    "def Facto(x, i, count):\n",
    "    L= list(range(1,(x+1)))\n",
    "    \n",
    "    if x <= i:\n",
    "        return count\n",
    "\n",
    "    count *= L[i]\n",
    "\n",
    "    count = Facto(x, i + 1, count)\n",
    "\n",
    "    return count\n",
    "\n",
    "x =5\n",
    "count = 1\n",
    "Facto(x, 0, count)"
   ]
  },
  {
   "cell_type": "code",
   "execution_count": 49,
   "id": "4f0acd1b",
   "metadata": {},
   "outputs": [],
   "source": [
    "hora = \"22:30:06\"\n",
    "\n",
    "def Segundostotales(hora):\n",
    "    des= hora.split(\":\")\n",
    "    horas= int(des[0])*60*60\n",
    "    minutos = int(des[1])*60\n",
    "    segundos=int(des[2])\n",
    "    total=horas+minutos+segundos\n",
    "    return (\"La cantidad de segundos son\", total)"
   ]
  },
  {
   "cell_type": "code",
   "execution_count": 50,
   "id": "58f72857",
   "metadata": {},
   "outputs": [
    {
     "data": {
      "text/plain": [
       "('La cantidad de segundos son', 81006)"
      ]
     },
     "execution_count": 50,
     "metadata": {},
     "output_type": "execute_result"
    }
   ],
   "source": [
    "Segundostotales(hora)"
   ]
  },
  {
   "cell_type": "code",
   "execution_count": 53,
   "id": "c66fda70",
   "metadata": {},
   "outputs": [],
   "source": [
    "def horas_minutos_seg(segundos):\n",
    "    horas = int(segundos / 60 / 60)\n",
    "    segundos -= horas*60*60\n",
    "    minutos = int(segundos/60)\n",
    "    segundos -= minutos*60\n",
    "    return f\"La cantidad de horas, minutos y segundos es {horas:02d}:{minutos:02d}:{segundos:02d}\"\n"
   ]
  },
  {
   "cell_type": "code",
   "execution_count": 54,
   "id": "6e70bc90",
   "metadata": {},
   "outputs": [
    {
     "data": {
      "text/plain": [
       "'La cantidad de horas, minutos y segundos es 22:30:06'"
      ]
     },
     "execution_count": 54,
     "metadata": {},
     "output_type": "execute_result"
    }
   ],
   "source": [
    "horas_minutos_seg(81006)"
   ]
  },
  {
   "cell_type": "markdown",
   "id": "1f572cbd",
   "metadata": {},
   "source": [
    "## Ejercicio 11\n",
    "Crea una función  que lea una tupla, invierta los valores de la tupla y regrese una nueva tupla invirtiendo los valores. Recuerde que las tuplas son inmutables.\n"
   ]
  },
  {
   "cell_type": "code",
   "execution_count": 115,
   "id": "c7bc4186",
   "metadata": {},
   "outputs": [],
   "source": [
    "def invert_tupla(tuplax):\n",
    "    tuplay = tuplax[::-1]\n",
    "    return(tuple(tuplay))\n",
    "    \n",
    "        "
   ]
  },
  {
   "cell_type": "code",
   "execution_count": 116,
   "id": "a6b1f479",
   "metadata": {},
   "outputs": [
    {
     "data": {
      "text/plain": [
       "(6, 7, 8, 9, 10)"
      ]
     },
     "execution_count": 116,
     "metadata": {},
     "output_type": "execute_result"
    }
   ],
   "source": [
    "\n",
    "tuplax =(10,9,8,7,6)\n",
    "\n",
    "invert_tupla(tuplax)\n",
    "\n",
    " "
   ]
  },
  {
   "cell_type": "markdown",
   "id": "eb873d6c",
   "metadata": {},
   "source": [
    "## Ejercicio 12\n",
    "Escriba una función que lea una lista y calcule la media geométrica de sus valores, usando funtools.reduce."
   ]
  },
  {
   "cell_type": "code",
   "execution_count": 31,
   "id": "b3a8189e",
   "metadata": {},
   "outputs": [],
   "source": [
    "from functools import reduce\n",
    "\n",
    "def Geommedia(l):\n",
    "    n = len(l)\n",
    "    def mult(x,y):\n",
    "        return x*y\n",
    "    res= reduce(mult,l)\n",
    "    res2= res**(1/n)\n",
    "    print(\"la media geometrica es\",res2)\n",
    "    \n",
    "\n"
   ]
  },
  {
   "cell_type": "code",
   "execution_count": 32,
   "id": "d29604ac",
   "metadata": {},
   "outputs": [
    {
     "name": "stdout",
     "output_type": "stream",
     "text": [
      "la media geometrica es 16.916852032061655\n"
     ]
    }
   ],
   "source": [
    "Geommedia([8,16,22,12,41])"
   ]
  }
 ],
 "metadata": {
  "kernelspec": {
   "display_name": "Python 3 (ipykernel)",
   "language": "python",
   "name": "python3"
  },
  "language_info": {
   "codemirror_mode": {
    "name": "ipython",
    "version": 3
   },
   "file_extension": ".py",
   "mimetype": "text/x-python",
   "name": "python",
   "nbconvert_exporter": "python",
   "pygments_lexer": "ipython3",
   "version": "3.9.12"
  }
 },
 "nbformat": 4,
 "nbformat_minor": 5
}
