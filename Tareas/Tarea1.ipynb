{
 "cells": [
  {
   "cell_type": "markdown",
   "id": "e7e48327",
   "metadata": {},
   "source": [
    "<figure>\n",
    "<img src=\"https://jupyter.org/assets/homepage/main-logo.svg\"  width=\"80\" height=\"80\" align=\"right\"/> \n",
    "</figure>\n",
    "\n",
    "# <p style=\"color:#676767;\" style=\"font-size:80;\" > Jupyter notebook </p>"
   ]
  },
  {
   "cell_type": "markdown",
   "id": "3de67a02",
   "metadata": {},
   "source": [
    "<h1 style =\"color:#006666;\" style=\"font-size:100;\"><center> Determinante de una matriz </center></h1>"
   ]
  },
  {
   "cell_type": "markdown",
   "id": "956686d8",
   "metadata": {},
   "source": [
    "<h3 style =\"color:#008080;\" style=\"font-size:80;\"><left> Autora </left></h3>"
   ]
  },
  {
   "cell_type": "markdown",
   "id": "5e1bd69a",
   "metadata": {},
   "source": [
    "<figure>\n",
    "<img src=\"../Imagenes/Imagen1.jpeg\"  width=\"100\" height=\"150\" align=\"right\"/> \n",
    "</figure>\n",
    "\n",
    "Valentina Gonzalez Ruiz\n",
    "\n",
    "- Quimica y estudiante de maestria en ciencias- Quimica de la Universidad Nacional de Colombia\n",
    "- Quimica investigadora en el Centro de desarrollo tecnologico de la esmeralda colombiana CDTEC\n",
    "- Campos de investigacion : geoquimica y espectroscopia enfocada a la esmeralda\n"
   ]
  },
  {
   "cell_type": "markdown",
   "id": "b161101c",
   "metadata": {},
   "source": [
    "## <span style=\"color:#008080;\">Matriz</span>"
   ]
  },
  {
   "cell_type": "markdown",
   "id": "c29ee07b",
   "metadata": {},
   "source": [
    "Una matriz A *m x n* de es un arreglo rectangular de mn numeros dispuestos en *m* renglones y *n* columnas.\n",
    "\n"
   ]
  },
  {
   "cell_type": "markdown",
   "id": "8cb32ec8",
   "metadata": {},
   "source": [
    "$$ \n",
    "A =\n",
    "\\begin{pmatrix}\n",
    "    a_{11} & a_{12} & \\dots  & a_{1n} \\\\\n",
    "    a_{21} & a_{22} & \\dots  & a_{2n} \\\\\n",
    "    \\vdots & \\vdots & \\ddots & \\vdots \\\\\n",
    "    a_{m1} & a_{m2} & \\dots  & a_{mn}\n",
    "\\end{pmatrix}\n",
    "    $$"
   ]
  },
  {
   "cell_type": "markdown",
   "id": "88180f3a",
   "metadata": {},
   "source": [
    "## <span style=\"color:#008080;\">Determinante</span>"
   ]
  },
  {
   "cell_type": "markdown",
   "id": "c186665d",
   "metadata": {},
   "source": [
    "Los determinantes de las matrices son muy utiles para calcular la inversa de una matriz y resolver sistemas de ecuaciones lineales. \n",
    "En el caso de una matriz A su determinante, *det A* o |A| es el resultado de restar la multiplicación de los elementos de la diagonal \n",
    "principal con la multiplicación de los elementos de la diagonal secundaria: "
   ]
  },
  {
   "cell_type": "markdown",
   "id": "115ecd1c",
   "metadata": {},
   "source": [
    "$$ A =\n",
    "\\begin{pmatrix} a_{11} & a_{12} \\\\\n",
    "a_{21} & a_{22}\n",
    "\\end{pmatrix} \n",
    "$$  "
   ]
  },
  {
   "cell_type": "markdown",
   "id": "47823eef",
   "metadata": {},
   "source": [
    "$$ \\begin{vmatrix}\n",
    "A \\end{vmatrix} =\n",
    "\\begin{vmatrix} a_{11} & a_{12} \\\\\n",
    "a_{21} & a_{22} \n",
    "\\end{vmatrix} \n",
    "= \n",
    "a_{11}*a_{22} + a_{12}*a_{21} $$"
   ]
  },
  {
   "cell_type": "markdown",
   "id": "8f0907d2",
   "metadata": {},
   "source": [
    "El determinante de una matriz *n x n* se definirá de manera inductiva, se usará determinantes de matrices *2 x 2* para \n",
    "definir un determinante *3 x 3* como veremos en el ejemplo."
   ]
  },
  {
   "cell_type": "markdown",
   "id": "5e83b88a",
   "metadata": {},
   "source": [
    "## <span style=\"color:#008080;\">Ejemplos</span>"
   ]
  },
  {
   "cell_type": "markdown",
   "id": "cac7622c",
   "metadata": {},
   "source": [
    "##### <span style=\"color:#66b2b2;\">Determinante 3 x 3</span>"
   ]
  },
  {
   "cell_type": "markdown",
   "id": "4b717dbc",
   "metadata": {},
   "source": [
    "Teniendo una matriz *3 x 3* A:"
   ]
  },
  {
   "cell_type": "markdown",
   "id": "7b9ed35f",
   "metadata": {},
   "source": [
    "$$ \n",
    "A =\n",
    "\\begin{pmatrix}\n",
    "    a_{11} & a_{12} & a_{1n} \\\\\n",
    "    a_{21} & a_{22} & a_{2n} \\\\\n",
    "    a_{31} & a_{32} & a_{33}\n",
    "\\end{pmatrix}\n",
    "    $$"
   ]
  },
  {
   "cell_type": "markdown",
   "id": "f5416261",
   "metadata": {},
   "source": [
    "Su determinante es:"
   ]
  },
  {
   "cell_type": "markdown",
   "id": "56d5550b",
   "metadata": {},
   "source": [
    "$$ \\begin{vmatrix} A \\end{vmatrix} = \n",
    "\\begin{pmatrix}\n",
    "    a_{11} & a_{12} & a_{1n} \\\\\n",
    "    a_{21} & a_{22} & a_{2n} \\\\\n",
    "    a_{31} & a_{32} & a_{33}\n",
    "\\end{pmatrix}\n",
    "=\n",
    "a_{11} \\begin{vmatrix} a_{22} & a_{23} \\\\\n",
    "a_{32} & a_{33} \n",
    "\\end{vmatrix} - \n",
    "a_{12}\\begin{vmatrix} a_{21} & a_{23} \\\\\n",
    "a_{31} & a_{33} \n",
    "\\end{vmatrix} +\n",
    "a_{13} \\begin{vmatrix} a_{21} & a_{22} \\\\\n",
    "a_{31} & a_{32} \n",
    "\\end{vmatrix}\n",
    "$$"
   ]
  },
  {
   "cell_type": "markdown",
   "id": "ad89a165",
   "metadata": {},
   "source": [
    "Calculemos el determinante de la matriz A :"
   ]
  },
  {
   "cell_type": "markdown",
   "id": "b3cb8cc9",
   "metadata": {},
   "source": [
    "$$ \\begin{vmatrix} A \\end{vmatrix} \n",
    "=\n",
    "\\begin{pmatrix}\n",
    "    4 & 7 & -2 \\\\\n",
    "    3 & -5 & 1 \\\\\n",
    "    -8 & 6 & 9\n",
    "\\end{pmatrix}\n",
    "=\n",
    "4 \\begin{vmatrix} -5 & 1 \\\\\n",
    "6 & 9 \\end{vmatrix} - \n",
    "7\\begin{vmatrix} 3 & 1 \\\\ -8 & 9 \\end{vmatrix} +\n",
    "(-2) \\begin{vmatrix} 3 & -5 \\\\ -8 & 6 \\end{vmatrix}\n",
    "$$"
   ]
  },
  {
   "cell_type": "markdown",
   "id": "5f94f614",
   "metadata": {},
   "source": [
    "$$= 4((-5)(9)-(6)(1))-7((3)(9)-(-8)(1))+(-2((3)(6)-(-8)(-5)) $$"
   ]
  },
  {
   "cell_type": "markdown",
   "id": "de2e4f96",
   "metadata": {},
   "source": [
    "$$= 4(-51)-7(35)-2(-22) $$"
   ]
  },
  {
   "cell_type": "markdown",
   "id": "ff8f1c0a",
   "metadata": {},
   "source": [
    "$$= -405$$"
   ]
  },
  {
   "cell_type": "markdown",
   "id": "a397d246",
   "metadata": {},
   "source": [
    "El determinante de la matriz A es -405"
   ]
  },
  {
   "cell_type": "markdown",
   "id": "90ca32f8",
   "metadata": {},
   "source": [
    "## <span style=\"color:#008080;\">Referencias</span>"
   ]
  },
  {
   "cell_type": "markdown",
   "id": "9ce61909",
   "metadata": {},
   "source": [
    "[Grossman, S. I., Flores Godoy, J. J.(2019). Álgebra lineal. McGraw-Hill](http://www.ebooks7-24.com.ezproxy.unal.edu.co/?il=9168)"
   ]
  },
  {
   "cell_type": "markdown",
   "id": "bb9b840d",
   "metadata": {},
   "source": [
    "[Imagen de Jupyter](https://jupyter.org/assets/homepage/main-logo.svg)"
   ]
  },
  {
   "cell_type": "markdown",
   "id": "a607d312",
   "metadata": {},
   "source": [
    "## <span style=\"color:#008080;\">Colaboratory</span>"
   ]
  },
  {
   "cell_type": "markdown",
   "id": "a00d92bb",
   "metadata": {},
   "source": [
    "[![Open In Colab](https://colab.research.google.com/assets/colab-badge.svg)](https://colab.research.google.com/github//VGdummy/Dimplomado_Ciencia_Datos/blob/a157a76e9d58ae63f2d40c3719cfd1c464e06133/Tareas/Tarea1.ipynb)"
   ]
  },
  {
   "cell_type": "markdown",
   "id": "6eb9f8be",
   "metadata": {},
   "source": [
    "# Table of contents\n",
    "1. [Introduction](#introduction)\n",
    "2. [Some paragraph](#paragraph1)\n",
    "    1. [Sub paragraph](#subparagraph1)\n",
    "3. [Another paragraph](#paragraph2)\n",
    "\n",
    "## This is the introduction <a name=\"introduction\"></a>\n",
    "Some introduction text, formatted in heading 2 style\n",
    "\n",
    "## Some paragraph <a name=\"paragraph1\"></a>\n",
    "The first paragraph text\n",
    "\n",
    "### Sub paragraph <a name=\"subparagraph1\"></a>\n",
    "This is a sub paragraph, formatted in heading 3 style\n",
    "\n",
    "## Another paragraph <a name=\"paragraph2\"></a>\n",
    "The second paragraph text"
   ]
  },
  {
   "cell_type": "code",
   "execution_count": null,
   "id": "352866bd",
   "metadata": {},
   "outputs": [],
   "source": []
  }
 ],
 "metadata": {
  "kernelspec": {
   "display_name": "Python 3 (ipykernel)",
   "language": "python",
   "name": "python3"
  },
  "language_info": {
   "codemirror_mode": {
    "name": "ipython",
    "version": 3
   },
   "file_extension": ".py",
   "mimetype": "text/x-python",
   "name": "python",
   "nbconvert_exporter": "python",
   "pygments_lexer": "ipython3",
   "version": "3.9.12"
  }
 },
 "nbformat": 4,
 "nbformat_minor": 5
}
